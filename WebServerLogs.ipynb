{
  "nbformat": 4,
  "nbformat_minor": 0,
  "metadata": {
    "colab": {
      "provenance": []
    },
    "kernelspec": {
      "name": "python3",
      "display_name": "Python 3"
    },
    "language_info": {
      "name": "python"
    }
  },
  "cells": [
    {
      "cell_type": "code",
      "execution_count": 1,
      "metadata": {
        "colab": {
          "base_uri": "https://localhost:8080/"
        },
        "id": "eJaeNCig_pGV",
        "outputId": "7fa48791-57a2-48ed-bb3f-60d5eb1f9bf5"
      },
      "outputs": [
        {
          "output_type": "stream",
          "name": "stdout",
          "text": [
            "Collecting faker\n",
            "  Downloading Faker-30.6.0-py3-none-any.whl.metadata (15 kB)\n",
            "Requirement already satisfied: python-dateutil>=2.4 in /usr/local/lib/python3.10/dist-packages (from faker) (2.8.2)\n",
            "Requirement already satisfied: typing-extensions in /usr/local/lib/python3.10/dist-packages (from faker) (4.12.2)\n",
            "Requirement already satisfied: six>=1.5 in /usr/local/lib/python3.10/dist-packages (from python-dateutil>=2.4->faker) (1.16.0)\n",
            "Downloading Faker-30.6.0-py3-none-any.whl (1.8 MB)\n",
            "\u001b[2K   \u001b[90m━━━━━━━━━━━━━━━━━━━━━━━━━━━━━━━━━━━━━━━━\u001b[0m \u001b[32m1.8/1.8 MB\u001b[0m \u001b[31m15.5 MB/s\u001b[0m eta \u001b[36m0:00:00\u001b[0m\n",
            "\u001b[?25hInstalling collected packages: faker\n",
            "Successfully installed faker-30.6.0\n"
          ]
        }
      ],
      "source": [
        "!pip install faker"
      ]
    },
    {
      "cell_type": "code",
      "source": [
        "from pyspark.sql import SparkSession\n",
        "from pyspark.sql.functions import col, to_date, sum\n",
        "\n",
        "# Инициализация сессии\n",
        "spark = SparkSession.builder.appName(\"Logs Analysis\").master(\"local[*]\").getOrCreate()\n",
        "\n",
        "# Формирование датафрейма из csv файла\n",
        "df = spark.read.csv(\"web_server_logs.csv\", header=True, inferSchema=True)\n",
        "\n",
        "# Группировка данных по IP и рассчет количества запросов для каждого IP, выведено 10 самых активных IP\n",
        "top_ips = df.groupBy(\"ip\").count().withColumnRenamed(\"count\",\"request_count\").orderBy(col(\"request_count\").desc()).limit(10)\n",
        "print(\"Top 10 active IP addresses:\")\n",
        "top_ips.show()\n",
        "\n",
        "# Группировка данных по HTTP-методам и рассчет количества запросов для каждого метода\n",
        "method_counts = df.groupBy(\"method\").count().withColumnRenamed(\"count\", \"method_count\")\n",
        "print(\"Request count by HTTP method:\")\n",
        "method_counts.show()\n",
        "\n",
        "# Фильтрация и рассчет количества запросов с кодом ответа 404\n",
        "filtered_df = df.filter(col(\"response_code\") == 404).count()\n",
        "print(f\"Number of 404 response codes: {filtered_df}\")\n",
        "\n",
        "# Группировка данных по дате и суммирование размеров ответов, отсортированных по дате\n",
        "total_size = df.withColumn(\"date\", to_date(col(\"timestamp\"), \"yyyy-MM-dd\")).groupBy(\"date\").agg(sum(col(\"response_size\")).alias(\"total_response_size\")).orderBy(col(\"date\"))\n",
        "print(\"Total respose size by day:\")\n",
        "total_size.show()\n",
        "\n",
        "# Завершение сессии\n",
        "spark.stop()"
      ],
      "metadata": {
        "colab": {
          "base_uri": "https://localhost:8080/"
        },
        "id": "VQCe2OTKCyzW",
        "outputId": "7205946e-c833-4484-d41a-84ccb1a49aaf"
      },
      "execution_count": 17,
      "outputs": [
        {
          "output_type": "stream",
          "name": "stdout",
          "text": [
            "Top 10 active IP addresses:\n",
            "+---------------+-------------+\n",
            "|             ip|request_count|\n",
            "+---------------+-------------+\n",
            "| 90.103.226.185|            2|\n",
            "|220.161.163.231|            1|\n",
            "|196.134.147.245|            1|\n",
            "|   89.8.111.227|            1|\n",
            "|   86.51.125.84|            1|\n",
            "| 223.209.22.127|            1|\n",
            "| 166.164.100.85|            1|\n",
            "|  32.221.40.158|            1|\n",
            "|   24.236.53.56|            1|\n",
            "|195.115.131.147|            1|\n",
            "+---------------+-------------+\n",
            "\n",
            "Request count by HTTP method:\n",
            "+------+------------+\n",
            "|method|method_count|\n",
            "+------+------------+\n",
            "|  POST|       24832|\n",
            "|DELETE|       25277|\n",
            "|   PUT|       24807|\n",
            "|   GET|       25084|\n",
            "+------+------------+\n",
            "\n",
            "Number of 404 response codes: 24922\n",
            "Total respose size by day:\n",
            "+----------+-------------------+\n",
            "|      date|total_response_size|\n",
            "+----------+-------------------+\n",
            "|2024-01-01|            1760344|\n",
            "|2024-01-02|            1733523|\n",
            "|2024-01-03|            1737273|\n",
            "|2024-01-04|            1709376|\n",
            "|2024-01-05|            1860799|\n",
            "|2024-01-06|            1689216|\n",
            "|2024-01-07|            1615608|\n",
            "|2024-01-08|            1679624|\n",
            "|2024-01-09|            1759170|\n",
            "|2024-01-10|            1815938|\n",
            "|2024-01-11|            1617645|\n",
            "|2024-01-12|            1877258|\n",
            "|2024-01-13|            1653345|\n",
            "|2024-01-14|            1565574|\n",
            "|2024-01-15|            1675183|\n",
            "|2024-01-16|            1599466|\n",
            "|2024-01-17|            1619068|\n",
            "|2024-01-18|            1698226|\n",
            "|2024-01-19|            1782485|\n",
            "|2024-01-20|            1515515|\n",
            "+----------+-------------------+\n",
            "only showing top 20 rows\n",
            "\n"
          ]
        }
      ]
    }
  ]
}